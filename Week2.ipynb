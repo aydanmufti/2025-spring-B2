{
 "cells": [
  {
   "cell_type": "markdown",
   "id": "5190b54c-d49c-4d6f-80cc-22555336a9cd",
   "metadata": {},
   "source": [
    "# Week 2 - Preprocessing, part 2\n",
    "\n",
    "# 1. Lesson: None"
   ]
  },
  {
   "cell_type": "markdown",
   "id": "47c4e5ff-b05f-4ef2-96f1-49dcb5beb158",
   "metadata": {},
   "source": [
    "# 2. Weekly graph question"
   ]
  },
  {
   "cell_type": "markdown",
   "id": "aad37e29-6e84-41fa-886d-abc1312213ab",
   "metadata": {},
   "source": [
    "The Storytelling With Data book mentions planning on a \"Who, What, and How\" for your data story.  Write down a possible Who, What, and How for your data, using the ideas in the book."
   ]
  },
  {
   "cell_type": "markdown",
   "id": "eb31352c",
   "metadata": {},
   "source": [
    "The Dataset: https://www.kaggle.com/datasets/sumitrodatta/nba-aba-baa-stats\n",
    "\n",
    "Who:\n",
    "The target audience for this dataset would most likely be NBA analysts, team executives, sports betting customers, and any sports data enthusiasts who are interested in understanding historical trends in player and team performance. This audience is familiar with basketball statistics and values data-driven insights to inform decisions, whether for player evaluations, strategy development, or historical comparisons. \n",
    "\n",
    "What:\n",
    "The goal using this dataset is to highlight key trends in player performance and league evolution over time. Specifically, we can aim to analyze how scoring, assisting, and rebounding trends have changed across different eras, identifying how the depth in skills have shifted when influenced by rule changes, playing styles, or league expansions. The audience should walk away with a clear understanding of how past performance benchmarks compare to the performance of players in the NBA today.\n",
    "\n",
    "How:\n",
    "We can present our findings using interactive visualizations, including trend lines showing changes across decades, heat maps to compare player performances based on era, and specific studies of individual players who have brought a league-wide shift. This can be communicated through graphs and other visuals and a recorded presentation with interactive elements."
   ]
  },
  {
   "cell_type": "markdown",
   "id": "898eb327-aefd-4ac0-b95a-92b616a2181b",
   "metadata": {},
   "source": [
    "# 3. Homework - work with your own data"
   ]
  },
  {
   "cell_type": "code",
   "execution_count": 25,
   "id": "fe925521-979f-4983-8d85-8db8d1316e99",
   "metadata": {},
   "outputs": [],
   "source": [
    "import pandas as pd\n",
    "import numpy as np\n",
    "import kagglehub\n",
    "from datetime import datetime, timedelta"
   ]
  },
  {
   "cell_type": "code",
   "execution_count": 26,
   "id": "417df8a8",
   "metadata": {},
   "outputs": [
    {
     "name": "stdout",
     "output_type": "stream",
     "text": [
      "Path to dataset files: C:\\Users\\Aydan Mufti\\.cache\\kagglehub\\datasets\\sumitrodatta\\nba-aba-baa-stats\\versions\\42\n"
     ]
    }
   ],
   "source": [
    "# Download latest version of NBA dataset\n",
    "path = kagglehub.dataset_download(\"sumitrodatta/nba-aba-baa-stats\")\n",
    "\n",
    "print(\"Path to dataset files:\", path)"
   ]
  },
  {
   "cell_type": "code",
   "execution_count": 27,
   "id": "9e053cda",
   "metadata": {},
   "outputs": [],
   "source": [
    "file_path = path + \"/Player Shooting.csv\"\n",
    "df = pd.read_csv(file_path)\n"
   ]
  },
  {
   "cell_type": "markdown",
   "id": "14836788-b235-4cd4-b94d-5f749c6141a8",
   "metadata": {},
   "source": [
    "This week, you will do the same types of exercises as last week, but you should use your chosen datasets that someone in your class found last semester. (They likely will not be the particular datasets that you found yourself.)\n",
    "\n",
    "### Here are some types of analysis you can do  Use Google, documentation, and ChatGPT to help you:\n",
    "\n",
    "- Summarize the datasets using info() and describe()\n",
    "\n",
    "- Are there any duplicate rows?\n",
    "\n",
    "- Are there any duplicate values in a given column (when this would be inappropriate?)\n",
    "\n",
    "- What are the mean, median, and mode of each column?\n",
    "\n",
    "- Are there any missing or null values?\n",
    "\n",
    "    - Do you want to fill in the missing value with a mean value?  A value of your choice?  Remove that row?\n",
    "\n",
    "- Identify any other inconsistent data (e.g. someone seems to be taking an action before they are born.)\n",
    "\n",
    "- Encode any categorical variables (e.g. with one-hot encoding.)\n",
    "\n",
    "### Conclusions:\n",
    "\n",
    "- Are the data usable?  If not, find some new data!\n",
    "\n",
    "- Do you need to modify or correct the data in some way?\n",
    "\n",
    "- Is there any class imbalance?  (Categories that have many more items than other categories)."
   ]
  },
  {
   "cell_type": "code",
   "execution_count": 28,
   "id": "5258d3e0",
   "metadata": {},
   "outputs": [
    {
     "name": "stdout",
     "output_type": "stream",
     "text": [
      "seas_id\n",
      "season\n",
      "player_id\n",
      "player\n",
      "birth_year\n",
      "pos\n",
      "age\n",
      "experience\n",
      "lg\n",
      "tm\n",
      "g\n",
      "mp\n",
      "fg_percent\n",
      "avg_dist_fga\n",
      "percent_fga_from_x2p_range\n",
      "percent_fga_from_x0_3_range\n",
      "percent_fga_from_x3_10_range\n",
      "percent_fga_from_x10_16_range\n",
      "percent_fga_from_x16_3p_range\n",
      "percent_fga_from_x3p_range\n",
      "fg_percent_from_x2p_range\n",
      "fg_percent_from_x0_3_range\n",
      "fg_percent_from_x3_10_range\n",
      "fg_percent_from_x10_16_range\n",
      "fg_percent_from_x16_3p_range\n",
      "fg_percent_from_x3p_range\n",
      "percent_assisted_x2p_fg\n",
      "percent_assisted_x3p_fg\n",
      "percent_dunks_of_fga\n",
      "num_of_dunks\n",
      "percent_corner_3s_of_3pa\n",
      "corner_3_point_percent\n",
      "num_heaves_attempted\n",
      "num_heaves_made\n"
     ]
    }
   ],
   "source": [
    "print(\"\\n\".join(df.columns))"
   ]
  },
  {
   "cell_type": "code",
   "execution_count": 29,
   "id": "5497460d",
   "metadata": {},
   "outputs": [
    {
     "name": "stdout",
     "output_type": "stream",
     "text": [
      "Dataset Info:\n",
      "<class 'pandas.core.frame.DataFrame'>\n",
      "RangeIndex: 17334 entries, 0 to 17333\n",
      "Data columns (total 34 columns):\n",
      " #   Column                         Non-Null Count  Dtype  \n",
      "---  ------                         --------------  -----  \n",
      " 0   seas_id                        17334 non-null  int64  \n",
      " 1   season                         17334 non-null  int64  \n",
      " 2   player_id                      17334 non-null  int64  \n",
      " 3   player                         17334 non-null  object \n",
      " 4   birth_year                     200 non-null    float64\n",
      " 5   pos                            17334 non-null  object \n",
      " 6   age                            17334 non-null  int64  \n",
      " 7   experience                     17334 non-null  int64  \n",
      " 8   lg                             17334 non-null  object \n",
      " 9   tm                             17334 non-null  object \n",
      " 10  g                              17334 non-null  int64  \n",
      " 11  mp                             17334 non-null  int64  \n",
      " 12  fg_percent                     17229 non-null  float64\n",
      " 13  avg_dist_fga                   17229 non-null  float64\n",
      " 14  percent_fga_from_x2p_range     17229 non-null  float64\n",
      " 15  percent_fga_from_x0_3_range    17229 non-null  float64\n",
      " 16  percent_fga_from_x3_10_range   17229 non-null  float64\n",
      " 17  percent_fga_from_x10_16_range  17229 non-null  float64\n",
      " 18  percent_fga_from_x16_3p_range  17229 non-null  float64\n",
      " 19  percent_fga_from_x3p_range     17229 non-null  float64\n",
      " 20  fg_percent_from_x2p_range      17143 non-null  float64\n",
      " 21  fg_percent_from_x0_3_range     16739 non-null  float64\n",
      " 22  fg_percent_from_x3_10_range    16406 non-null  float64\n",
      " 23  fg_percent_from_x10_16_range   15925 non-null  float64\n",
      " 24  fg_percent_from_x16_3p_range   15723 non-null  float64\n",
      " 25  fg_percent_from_x3p_range      14887 non-null  float64\n",
      " 26  percent_assisted_x2p_fg        16841 non-null  float64\n",
      " 27  percent_assisted_x3p_fg        12671 non-null  float64\n",
      " 28  percent_dunks_of_fga           17229 non-null  float64\n",
      " 29  num_of_dunks                   17334 non-null  int64  \n",
      " 30  percent_corner_3s_of_3pa       14887 non-null  float64\n",
      " 31  corner_3_point_percent         12753 non-null  float64\n",
      " 32  num_heaves_attempted           17334 non-null  int64  \n",
      " 33  num_heaves_made                17334 non-null  int64  \n",
      "dtypes: float64(20), int64(10), object(4)\n",
      "memory usage: 4.5+ MB\n",
      "None\n",
      "\n",
      "Dataset Description:\n",
      "            seas_id        season     player_id   birth_year           age  \\\n",
      "count  17334.000000  17334.000000  17334.000000   200.000000  17334.000000   \n",
      "mean   23752.500000   2011.789893   3719.304315  1979.425000     26.659859   \n",
      "std     5004.039119      8.375852    703.162171     9.107641      4.265672   \n",
      "min    15086.000000   1997.000000   1723.000000  1957.000000     18.000000   \n",
      "25%    19419.250000   2005.000000   3171.000000  1975.000000     23.000000   \n",
      "50%    23752.500000   2012.000000   3707.500000  1980.000000     26.000000   \n",
      "75%    28085.750000   2019.000000   4252.000000  1986.000000     30.000000   \n",
      "max    32419.000000   2025.000000   5293.000000  2002.000000     44.000000   \n",
      "\n",
      "         experience             g            mp    fg_percent  avg_dist_fga  \\\n",
      "count  17334.000000  17334.000000  17334.000000  17229.000000  17229.000000   \n",
      "mean       5.615034     44.751413   1034.442137      0.434508     12.583203   \n",
      "std        4.049413     25.967311    863.449182      0.106089      5.007435   \n",
      "min        1.000000      1.000000      0.000000      0.000000      0.000000   \n",
      "25%        2.000000     22.000000    258.000000      0.394000      9.000000   \n",
      "50%        5.000000     47.000000    842.000000      0.436000     13.100000   \n",
      "75%        8.000000     69.000000   1682.000000      0.481000     16.200000   \n",
      "max       22.000000     85.000000   3485.000000      1.000000     45.300000   \n",
      "\n",
      "       ...  fg_percent_from_x16_3p_range  fg_percent_from_x3p_range  \\\n",
      "count  ...                  15723.000000               14887.000000   \n",
      "mean   ...                      0.360921                   0.289087   \n",
      "std    ...                      0.181042                   0.158714   \n",
      "min    ...                      0.000000                   0.000000   \n",
      "25%    ...                      0.293500                   0.231000   \n",
      "50%    ...                      0.379000                   0.330000   \n",
      "75%    ...                      0.444000                   0.376000   \n",
      "max    ...                      1.000000                   1.000000   \n",
      "\n",
      "       percent_assisted_x2p_fg  percent_assisted_x3p_fg  percent_dunks_of_fga  \\\n",
      "count             16841.000000             12671.000000          17229.000000   \n",
      "mean                  0.551888                 0.862189              0.057083   \n",
      "std                   0.209995                 0.186743              0.083155   \n",
      "min                   0.000000                 0.000000              0.000000   \n",
      "25%                   0.414000                 0.800000              0.000000   \n",
      "50%                   0.580000                 0.932000              0.027000   \n",
      "75%                   0.695000                 1.000000              0.077000   \n",
      "max                   1.000000                 1.000000              1.000000   \n",
      "\n",
      "       num_of_dunks  percent_corner_3s_of_3pa  corner_3_point_percent  \\\n",
      "count  17334.000000              14887.000000            12753.000000   \n",
      "mean      16.109323                  0.255599                0.342588   \n",
      "std       27.873297                  0.207881                0.202703   \n",
      "min        0.000000                  0.000000                0.000000   \n",
      "25%        0.000000                  0.111000                0.250000   \n",
      "50%        5.000000                  0.223000                0.364000   \n",
      "75%       19.000000                  0.357000                0.444000   \n",
      "max      306.000000                  1.000000                1.000000   \n",
      "\n",
      "       num_heaves_attempted  num_heaves_made  \n",
      "count          17334.000000     17334.000000  \n",
      "mean               0.696954         0.017711  \n",
      "std                1.335384         0.137890  \n",
      "min                0.000000         0.000000  \n",
      "25%                0.000000         0.000000  \n",
      "50%                0.000000         0.000000  \n",
      "75%                1.000000         0.000000  \n",
      "max               18.000000         2.000000  \n",
      "\n",
      "[8 rows x 30 columns]\n"
     ]
    }
   ],
   "source": [
    "# 1. Summarize the dataset\n",
    "print(\"Dataset Info:\")\n",
    "print(df.info())\n",
    "\n",
    "print(\"\\nDataset Description:\")\n",
    "print(df.describe())"
   ]
  },
  {
   "cell_type": "code",
   "execution_count": 30,
   "id": "83de594f",
   "metadata": {},
   "outputs": [
    {
     "name": "stdout",
     "output_type": "stream",
     "text": [
      "\n",
      "Number of duplicate rows: 0\n"
     ]
    }
   ],
   "source": [
    "# 2. Check for duplicate rows\n",
    "duplicates = df.duplicated().sum()\n",
    "print(f\"\\nNumber of duplicate rows: {duplicates}\")"
   ]
  },
  {
   "cell_type": "code",
   "execution_count": 31,
   "id": "0129cbca",
   "metadata": {},
   "outputs": [
    {
     "name": "stdout",
     "output_type": "stream",
     "text": [
      "Number of duplicate player IDs: 14599\n",
      "Number of duplicate player names: 14607\n"
     ]
    }
   ],
   "source": [
    "# 3. Check for duplicate values in key columns\n",
    "if 'player_id' in df.columns:\n",
    "    duplicate_player_ids = df['player_id'].duplicated().sum()\n",
    "    print(f\"Number of duplicate player IDs: {duplicate_player_ids}\")\n",
    "\n",
    "if 'player' in df.columns:\n",
    "    duplicate_players = df['player'].duplicated().sum()\n",
    "    print(f\"Number of duplicate player names: {duplicate_players}\")"
   ]
  },
  {
   "cell_type": "code",
   "execution_count": 14,
   "id": "161c0675",
   "metadata": {},
   "outputs": [
    {
     "name": "stdout",
     "output_type": "stream",
     "text": [
      "\n",
      "Mean values:\n",
      "seas_id                          23752.500000\n",
      "season                            2011.789893\n",
      "player_id                         3719.304315\n",
      "birth_year                        1979.425000\n",
      "age                                 26.659859\n",
      "experience                           5.615034\n",
      "g                                   44.751413\n",
      "mp                                1034.442137\n",
      "fg_percent                           0.434508\n",
      "avg_dist_fga                        12.583203\n",
      "percent_fga_from_x2p_range           0.732560\n",
      "percent_fga_from_x0_3_range          0.303522\n",
      "percent_fga_from_x3_10_range         0.164249\n",
      "percent_fga_from_x10_16_range        0.106225\n",
      "percent_fga_from_x16_3p_range        0.158534\n",
      "percent_fga_from_x3p_range           0.267445\n",
      "fg_percent_from_x2p_range            0.470959\n",
      "fg_percent_from_x0_3_range           0.608333\n",
      "fg_percent_from_x3_10_range          0.365687\n",
      "fg_percent_from_x10_16_range         0.356254\n",
      "fg_percent_from_x16_3p_range         0.360921\n",
      "fg_percent_from_x3p_range            0.289087\n",
      "percent_assisted_x2p_fg              0.551888\n",
      "percent_assisted_x3p_fg              0.862189\n",
      "percent_dunks_of_fga                 0.057083\n",
      "num_of_dunks                        16.109323\n",
      "percent_corner_3s_of_3pa             0.255599\n",
      "corner_3_point_percent               0.342588\n",
      "num_heaves_attempted                 0.696954\n",
      "num_heaves_made                      0.017711\n",
      "dtype: float64\n"
     ]
    }
   ],
   "source": [
    "# 4. Compute mean, median, and mode for numerical columns\n",
    "print(\"\\nMean values:\")\n",
    "print(df.mean(numeric_only=True))"
   ]
  },
  {
   "cell_type": "code",
   "execution_count": 15,
   "id": "4895c99f",
   "metadata": {},
   "outputs": [
    {
     "name": "stdout",
     "output_type": "stream",
     "text": [
      "\n",
      "Median values:\n",
      "seas_id                          23752.500\n",
      "season                            2012.000\n",
      "player_id                         3707.500\n",
      "birth_year                        1980.000\n",
      "age                                 26.000\n",
      "experience                           5.000\n",
      "g                                   47.000\n",
      "mp                                 842.000\n",
      "fg_percent                           0.436\n",
      "avg_dist_fga                        13.100\n",
      "percent_fga_from_x2p_range           0.739\n",
      "percent_fga_from_x0_3_range          0.272\n",
      "percent_fga_from_x3_10_range         0.143\n",
      "percent_fga_from_x10_16_range        0.091\n",
      "percent_fga_from_x16_3p_range        0.132\n",
      "percent_fga_from_x3p_range           0.261\n",
      "fg_percent_from_x2p_range            0.475\n",
      "fg_percent_from_x0_3_range           0.617\n",
      "fg_percent_from_x3_10_range          0.377\n",
      "fg_percent_from_x10_16_range         0.369\n",
      "fg_percent_from_x16_3p_range         0.379\n",
      "fg_percent_from_x3p_range            0.330\n",
      "percent_assisted_x2p_fg              0.580\n",
      "percent_assisted_x3p_fg              0.932\n",
      "percent_dunks_of_fga                 0.027\n",
      "num_of_dunks                         5.000\n",
      "percent_corner_3s_of_3pa             0.223\n",
      "corner_3_point_percent               0.364\n",
      "num_heaves_attempted                 0.000\n",
      "num_heaves_made                      0.000\n",
      "dtype: float64\n"
     ]
    }
   ],
   "source": [
    "print(\"\\nMedian values:\")\n",
    "print(df.median(numeric_only=True))"
   ]
  },
  {
   "cell_type": "code",
   "execution_count": 16,
   "id": "0d71dc0b",
   "metadata": {},
   "outputs": [
    {
     "name": "stdout",
     "output_type": "stream",
     "text": [
      "\n",
      "Mode values:\n",
      "seas_id                                  15086\n",
      "season                                  2022.0\n",
      "player_id                               3143.0\n",
      "player                           Nazr Mohammed\n",
      "birth_year                              1975.0\n",
      "pos                                         SG\n",
      "age                                       24.0\n",
      "experience                                 1.0\n",
      "lg                                         NBA\n",
      "tm                                         TOT\n",
      "g                                         82.0\n",
      "mp                                         6.0\n",
      "fg_percent                                 0.5\n",
      "avg_dist_fga                              14.3\n",
      "percent_fga_from_x2p_range                 1.0\n",
      "percent_fga_from_x0_3_range                0.0\n",
      "percent_fga_from_x3_10_range               0.0\n",
      "percent_fga_from_x10_16_range              0.0\n",
      "percent_fga_from_x16_3p_range              0.0\n",
      "percent_fga_from_x3p_range                 0.0\n",
      "fg_percent_from_x2p_range                  0.5\n",
      "fg_percent_from_x0_3_range                 0.5\n",
      "fg_percent_from_x3_10_range                0.0\n",
      "fg_percent_from_x10_16_range               0.0\n",
      "fg_percent_from_x16_3p_range               0.0\n",
      "fg_percent_from_x3p_range                  0.0\n",
      "percent_assisted_x2p_fg                    0.5\n",
      "percent_assisted_x3p_fg                    1.0\n",
      "percent_dunks_of_fga                       0.0\n",
      "num_of_dunks                               0.0\n",
      "percent_corner_3s_of_3pa                   0.0\n",
      "corner_3_point_percent                     0.0\n",
      "num_heaves_attempted                       0.0\n",
      "num_heaves_made                            0.0\n",
      "Name: 0, dtype: object\n"
     ]
    }
   ],
   "source": [
    "print(\"\\nMode values:\")\n",
    "print(df.mode().iloc[0])"
   ]
  },
  {
   "cell_type": "code",
   "execution_count": 32,
   "id": "43122186",
   "metadata": {},
   "outputs": [
    {
     "name": "stdout",
     "output_type": "stream",
     "text": [
      "\n",
      "Missing values per column:\n",
      "seas_id                              0\n",
      "season                               0\n",
      "player_id                            0\n",
      "player                               0\n",
      "birth_year                       17134\n",
      "pos                                  0\n",
      "age                                  0\n",
      "experience                           0\n",
      "lg                                   0\n",
      "tm                                   0\n",
      "g                                    0\n",
      "mp                                   0\n",
      "fg_percent                         105\n",
      "avg_dist_fga                       105\n",
      "percent_fga_from_x2p_range         105\n",
      "percent_fga_from_x0_3_range        105\n",
      "percent_fga_from_x3_10_range       105\n",
      "percent_fga_from_x10_16_range      105\n",
      "percent_fga_from_x16_3p_range      105\n",
      "percent_fga_from_x3p_range         105\n",
      "fg_percent_from_x2p_range          191\n",
      "fg_percent_from_x0_3_range         595\n",
      "fg_percent_from_x3_10_range        928\n",
      "fg_percent_from_x10_16_range      1409\n",
      "fg_percent_from_x16_3p_range      1611\n",
      "fg_percent_from_x3p_range         2447\n",
      "percent_assisted_x2p_fg            493\n",
      "percent_assisted_x3p_fg           4663\n",
      "percent_dunks_of_fga               105\n",
      "num_of_dunks                         0\n",
      "percent_corner_3s_of_3pa          2447\n",
      "corner_3_point_percent            4581\n",
      "num_heaves_attempted                 0\n",
      "num_heaves_made                      0\n",
      "dtype: int64\n"
     ]
    }
   ],
   "source": [
    "# 5. Check for missing/null values\n",
    "missing_values = df.isnull().sum()\n",
    "print(\"\\nMissing values per column:\")\n",
    "print(missing_values)"
   ]
  },
  {
   "cell_type": "code",
   "execution_count": 33,
   "id": "ec39a4d5",
   "metadata": {},
   "outputs": [
    {
     "name": "stdout",
     "output_type": "stream",
     "text": [
      "\n",
      "Dropped 'birth_year' due to excessive missing values.\n"
     ]
    }
   ],
   "source": [
    "# Handle missing values: Birth year has a high percentage of missing values, so we may need to drop the column\n",
    "if 'birth_year' in df.columns and df['birth_year'].isnull().sum() / len(df) > 0.9:\n",
    "    df.drop(columns=['birth_year'], inplace=True)\n",
    "    print(\"\\nDropped 'birth_year' due to excessive missing values.\")\n",
    "\n",
    "# Fill missing values for shooting percentages with column mean\n",
    "shooting_percentage_cols = [col for col in df.columns if 'percent' in col]\n",
    "df[shooting_percentage_cols] = df[shooting_percentage_cols].fillna(df[shooting_percentage_cols].mean())\n"
   ]
  },
  {
   "cell_type": "code",
   "execution_count": 34,
   "id": "3bd3b2dd",
   "metadata": {},
   "outputs": [],
   "source": [
    "# 6. Identify inconsistent data\n",
    "# Check if age is negative or unrealistically high\n",
    "invalid_ages = df[(df['age'] < 15) | (df['age'] > 50)]\n",
    "if not invalid_ages.empty:\n",
    "    print(\"\\nPossible inconsistent age values:\")\n",
    "    print(invalid_ages[['player', 'age']])"
   ]
  },
  {
   "cell_type": "code",
   "execution_count": 35,
   "id": "cfdd8256",
   "metadata": {},
   "outputs": [],
   "source": [
    "# 7. Encode categorical variables\n",
    "categorical_cols = ['pos', 'lg', 'tm']\n",
    "df_encoded = pd.get_dummies(df, columns=categorical_cols, drop_first=True)"
   ]
  },
  {
   "cell_type": "code",
   "execution_count": 36,
   "id": "dd47bdfa",
   "metadata": {},
   "outputs": [
    {
     "name": "stdout",
     "output_type": "stream",
     "text": [
      "\n",
      "Team distribution:\n",
      "tm\n",
      "TOT    1641\n",
      "TOR     556\n",
      "PHI     554\n",
      "CLE     554\n",
      "DAL     553\n",
      "HOU     545\n",
      "MIL     532\n",
      "PHO     531\n",
      "ATL     530\n",
      "WAS     528\n",
      "LAC     527\n",
      "DEN     526\n",
      "NYK     522\n",
      "MIA     522\n",
      "BOS     521\n",
      "SAC     520\n",
      "ORL     519\n",
      "DET     518\n",
      "GSW     517\n",
      "POR     512\n",
      "SAS     512\n",
      "LAL     512\n",
      "CHI     510\n",
      "IND     498\n",
      "MIN     496\n",
      "UTA     487\n",
      "MEM     472\n",
      "OKC     324\n",
      "NJN     298\n",
      "BRK     276\n",
      "NOP     248\n",
      "CHO     204\n",
      "SEA     195\n",
      "CHA     183\n",
      "NOH     161\n",
      "CHH     101\n",
      "VAN      80\n",
      "NOK      34\n",
      "WSB      15\n",
      "Name: count, dtype: int64\n",
      "\n",
      "Final cleaned dataset preview:\n",
      "   seas_id  season  player_id         player  age  experience   g   mp  \\\n",
      "0    31871    2025       5025     A.J. Green   25           3  39  844   \n",
      "1    31872    2025       5026    A.J. Lawson   24           3   4   15   \n",
      "2    31873    2025       5210     AJ Johnson   20           1   6   15   \n",
      "3    31874    2025       4219   Aaron Gordon   29          11  27  717   \n",
      "4    31875    2025       4582  Aaron Holiday   28           7  33  366   \n",
      "\n",
      "   fg_percent  avg_dist_fga  ...  tm_POR  tm_SAC  tm_SAS  tm_SEA  tm_TOR  \\\n",
      "0       0.441          24.3  ...   False   False   False   False   False   \n",
      "1       0.500          17.3  ...   False   False   False   False    True   \n",
      "2       0.429           5.7  ...   False   False   False   False   False   \n",
      "3       0.530          10.8  ...   False   False   False   False   False   \n",
      "4       0.421          19.9  ...   False   False   False   False   False   \n",
      "\n",
      "   tm_TOT  tm_UTA  tm_VAN  tm_WAS  tm_WSB  \n",
      "0   False   False   False   False   False  \n",
      "1   False   False   False   False   False  \n",
      "2   False   False   False   False   False  \n",
      "3   False   False   False   False   False  \n",
      "4   False   False   False   False   False  \n",
      "\n",
      "[5 rows x 84 columns]\n"
     ]
    }
   ],
   "source": [
    "# 8. Check for class imbalance (e.g., teams)\n",
    "if 'tm' in df.columns:\n",
    "    team_counts = df['tm'].value_counts()\n",
    "    print(\"\\nTeam distribution:\")\n",
    "    print(team_counts)\n",
    "\n",
    "print(\"\\nFinal cleaned dataset preview:\")\n",
    "print(df_encoded.head())"
   ]
  },
  {
   "cell_type": "markdown",
   "id": "03e9f89f",
   "metadata": {},
   "source": [
    "### Conclusions:\n",
    "\n",
    "- Are the data usable?  If not, find some new data!\n",
    "The data is usable\n",
    "\n",
    "- Do you need to modify or correct the data in some way?\n",
    "We did need to modify and correct the data - for example there were many missing values that we filled and we needed to drop the birth_year column entirely because more than 90% of the values were missing.\n",
    "- Is there any class imbalance?  (Categories that have many more items than other categories).\n",
    "- There are class imbalances as shown from the team distribution. "
   ]
  },
  {
   "cell_type": "markdown",
   "id": "abab9e6d-18cc-4863-b980-3e52f581763a",
   "metadata": {},
   "source": [
    "# 4. Storytelling With Data graph"
   ]
  },
  {
   "cell_type": "markdown",
   "id": "1911148d-9df6-4b33-a875-8c96408ec834",
   "metadata": {},
   "source": [
    "Just like last week: choose any graph in the Introduction of Storytelling With Data. Use matplotlib to reproduce it in a rough way. I don't expect you to spend an enormous amount of time on this; I understand that you likely will not have time to re-create every feature of the graph. However, if you're excited about learning to use matplotlib, this is a good way to do that. You don't have to duplicate the exact values on the graph; just the same rough shape will be enough.  If you don't feel comfortable using matplotlib yet, do the best you can and write down what you tried or what Google searches you did to find the answers."
   ]
  },
  {
   "cell_type": "code",
   "execution_count": 44,
   "id": "8b2888f9-3700-45ab-9829-6a5372106f9f",
   "metadata": {},
   "outputs": [
    {
     "data": {
      "image/png": "[encoded data removed]",
      "text/plain": [
       "<Figure size 600x600 with 1 Axes>"
      ]
     },
     "metadata": {},
     "output_type": "display_data"
    }
   ],
   "source": [
    "import matplotlib.pyplot as plt\n",
    "\n",
    "# Data\n",
    "years = [\"1970\", \"2012\"]\n",
    "values = [41, 20]\n",
    "\n",
    "# Create figure and axis\n",
    "fig, ax = plt.subplots(figsize=(6, 6))\n",
    "\n",
    "# Creating the plot\n",
    "bars = ax.bar(years, values, color=\"#153942\")\n",
    "\n",
    "# Add labels on top of bars\n",
    "for bar, value in zip(bars, values):\n",
    "    ax.text(bar.get_x() + bar.get_width() / 2, value + 2, str(value), \n",
    "            ha=\"center\", va=\"bottom\", fontsize=12, fontweight=\"bold\", color=\"black\")\n",
    "\n",
    "ax.set_title(\"Children with a\\n\\\"Traditional\\\" Stay-at-Home Mother\", fontsize=14, fontweight=\"bold\", color=\"black\", pad=20)\n",
    "ax.text(0.5, 45, \"% of children with a married\\nstay-at-home mother with a\\nworking husband\",\n",
    "        fontsize=10, color=\"gray\", ha=\"center\")\n",
    "\n",
    "# Adding space between the subtitle and the plot so it doesn't overlap\n",
    "ax.set_ylim(0, 50)\n",
    "\n",
    "# The model plot doesn't have a y-axis ticks or labels\n",
    "ax.yaxis.set_visible(False)\n",
    "\n",
    "# Remove borders\n",
    "ax.spines[\"top\"].set_visible(False)\n",
    "ax.spines[\"right\"].set_visible(False)\n",
    "ax.spines[\"left\"].set_visible(False)\n",
    "\n",
    "# Footnote\n",
    "plt.figtext(0.5, -0.1, \"Note: Based on children younger than 18.\\nTheir mothers are categorized based on employment status in 1970 and 2012.\\n\"\n",
    "             \"Source: Pew Research Center analysis of March Current Population Surveys\\n\"\n",
    "             \"Integrated Public Use Microdata Series (IPUMS-CPS), 1971 and 2013\\n\"\n",
    "             \"Adapted from PEW RESEARCH CENTER\",\n",
    "             fontsize=8, color=\"gray\", ha=\"center\")\n",
    "\n",
    "plt.show()\n"
   ]
  },
  {
   "cell_type": "markdown",
   "id": "ecf52cc7",
   "metadata": {},
   "source": [
    "Image for reference:\n",
    "![alt text](stay-at-home-moms-bar-graph.png)"
   ]
  }
 ],
 "metadata": {
  "kernelspec": {
   "display_name": "Python 3",
   "language": "python",
   "name": "python3"
  },
  "language_info": {
   "codemirror_mode": {
    "name": "ipython",
    "version": 3
   },
   "file_extension": ".py",
   "mimetype": "text/x-python",
   "name": "python",
   "nbconvert_exporter": "python",
   "pygments_lexer": "ipython3",
   "version": "3.12.8"
  }
 },
 "nbformat": 4,
 "nbformat_minor": 5
}
